{
 "cells": [
  {
   "cell_type": "code",
   "execution_count": 1,
   "id": "6a0a660a",
   "metadata": {},
   "outputs": [],
   "source": [
    "import numpy as np\n",
    "import cv2 as cv\n",
    "import matplotlib.pyplot as plt\n",
    "import math"
   ]
  },
  {
   "cell_type": "code",
   "execution_count": 2,
   "id": "c2e2c221",
   "metadata": {},
   "outputs": [],
   "source": [
    "# Util for showing omages\n",
    "def show(img, size=75):\n",
    "    plt.figure(figsize = (size,size))\n",
    "    \n",
    "    if len(img.shape) == 2: # if grayscale, set cmap\n",
    "        plt.imshow(img, cmap=\"gray\", vmin=0, vmax=255)\n",
    "    else: # if 3 channels, change from BGR to RGB\n",
    "        plt.imshow(img[...,::-1])\n",
    "        \n",
    "    plt.show()"
   ]
  },
  {
   "cell_type": "markdown",
   "id": "9a8e5558",
   "metadata": {},
   "source": [
    "# Block Matching"
   ]
  },
  {
   "cell_type": "code",
   "execution_count": 12,
   "id": "c01f8e48",
   "metadata": {},
   "outputs": [
    {
     "name": "stdout",
     "output_type": "stream",
     "text": [
      "(287, 380)\n",
      "[[  0   0   0 ... 368 271 379]\n",
      " [  0   1   2 ...  11 114   0]\n",
      " [ 48  47  46 ...   0   0   0]\n",
      " ...\n",
      " [193 193 193 ...   1  24   0]\n",
      " [193 194 193 ...   1   0   0]\n",
      " [193 194 193 ...   2   0 143]]\n"
     ]
    }
   ],
   "source": [
    "from joblib import Parallel, delayed\n",
    "\n",
    "def SAD(matA, matB):\n",
    "  return np.sum(np.abs(matA - matB))\n",
    "\n",
    "def SSD(matA, matB):\n",
    "  return np.sum(np.square(matA - matB))\n",
    "\n",
    "def get_row_matches(row, imgL, imgR, window, matching_fn):\n",
    "  _, width, _ = imgL.shape\n",
    "  # Window offset\n",
    "  offset = int(window/2)\n",
    "  result = []\n",
    "  for colLeft in range(offset, width-offset):\n",
    "    template = imgL[row-offset:row+offset +\n",
    "                    1, colLeft-offset:colLeft+offset+1, :]\n",
    "\n",
    "    bestMatchCol = -1\n",
    "    bestMatchVal = math.inf\n",
    "\n",
    "    for colRight in range(offset, width-offset):\n",
    "      match = imgR[row-offset:row+offset+1,\n",
    "                   colRight-offset:colRight+offset+1, :]\n",
    "      matchVal = matching_fn(template, match)\n",
    "\n",
    "      if matchVal < bestMatchVal:\n",
    "        bestMatchCol = colRight\n",
    "        bestMatchVal = matchVal\n",
    "    \n",
    "    # Append disparity\n",
    "    if bestMatchCol != -1: \n",
    "      result.append(np.abs(colLeft - bestMatchCol))\n",
    "    else: \n",
    "      result.append(0)\n",
    "  return result\n",
    "\n",
    "\n",
    "def get_block_matches(imgL, imgR, window, matching_fn):\n",
    "  height, _, _ = imgL.shape\n",
    "  offset = int(window/2)\n",
    "\n",
    "  results = Parallel(n_jobs=10)(delayed(get_row_matches)(i, imgL, imgR, window,\n",
    "                                              matching_fn) for i in range(offset, height-offset))\n",
    "  return np.array(results)"
   ]
  },
  {
   "cell_type": "code",
   "execution_count": 19,
   "id": "bf67405e",
   "metadata": {},
   "outputs": [
    {
     "name": "stdout",
     "output_type": "stream",
     "text": [
      "Window size:  3\n",
      "Calculating SAD: \n",
      "Calculating SSD: \n",
      "Window size:  5\n",
      "Calculating SAD: \n",
      "Calculating SSD: \n",
      "Window size:  9\n",
      "Calculating SAD: \n",
      "Calculating SSD: \n"
     ]
    }
   ],
   "source": [
    "imgL = cv.imread(\"./l1.png\")\n",
    "imgR = cv.imread(\"./r1.png\")\n",
    "\n",
    "for window in [3, 5, 9]:\n",
    "  print(\"Window size: \", window)\n",
    "\n",
    "  print(\"Calculating SAD ... \")\n",
    "  disparity_map = get_block_matches(imgL, imgR, window, SAD)\n",
    "  cv.imwrite(f\"./block_matching/output_{window}_SAD.png\", disparity_map)\n",
    "\n",
    "\n",
    "  print(\"Calculating SSD ... \")\n",
    "  disparity_map = get_block_matches(imgL, imgR, window, SSD)\n",
    "  cv.imwrite(f\"./block_matching/output_{window}_SSD.png\", disparity_map)\n",
    "\n",
    "  "
   ]
  },
  {
   "cell_type": "code",
   "execution_count": 3,
   "id": "b371179f",
   "metadata": {},
   "outputs": [],
   "source": [
    "def plot_matches(imgL, imgR, distances, c, dp, row):\n",
    "    height, width, rest_dims = imgL.shape[0], imgL.shape[1], imgL.shape[2:]\n",
    "\n",
    "    output = np.zeros((height+1, width+1, *rest_dims))\n",
    "    # left image row\n",
    "    output[0, 1:, ...] = imgL[row]\n",
    "    # right image row\n",
    "    output[1:, 0, ...] = imgR[row]\n",
    "\n",
    "    i, j = height - 1, width - 1\n",
    "\n",
    "    while i > 0 or j > 0:\n",
    "        if i == 0:\n",
    "            output = cv.line(output, (j+1, i+1), (j, i+1), (255, 255, 255), 1)\n",
    "            j -= 1\n",
    "        elif j == 0:\n",
    "            output = cv.line(output, (j+1, i+1), (j+1, i), (255, 255, 255), 1)\n",
    "            i -= 1\n",
    "        elif dp[i][j] == dp[i-1][j] + c:\n",
    "            output = cv.line(output, (j+1, i+1), (j+1, i), (255, 255, 255), 1)\n",
    "            i -= 1\n",
    "        elif dp[i][j] == dp[i][j-1] + c:\n",
    "            output = cv.line(output, (j+1, i+1), (j, i+1), (255, 255, 255), 1)\n",
    "            j -= 1\n",
    "        else:\n",
    "            output = cv.line(output, (j+1, i+1), (j, i), (255, 255, 255), 1)\n",
    "            i -= 1\n",
    "            j -= 1\n",
    "    return output"
   ]
  },
  {
   "cell_type": "markdown",
   "id": "165e5eec",
   "metadata": {},
   "source": [
    "# Dynamic Programming"
   ]
  },
  {
   "cell_type": "code",
   "execution_count": 1,
   "id": "902d8ff1",
   "metadata": {},
   "outputs": [],
   "source": [
    "import numpy as np\n",
    "from PIL import Image\n",
    "import matplotlib.pyplot as plt\n",
    "\n",
    "left_image = Image.open('./l1.png').convert('L')  # reading the image as a grayscale\n",
    "left_image = np.asarray(left_image)\n",
    "\n",
    "right_image = Image.open('./r1.png').convert('L')  # reading the image as a grayscale\n",
    "right_image = np.asarray(right_image)\n",
    "\n",
    "\n",
    "left_image = np.pad(left_image, ((3, 3), (3, 3)), 'constant', constant_values=0) # The padding step for the left image\n",
    "right_image = np.pad(right_image, ((3, 3), (3, 3)), 'constant', constant_values=0) # The padding step for the right image\n",
    "\n",
    "height, width = left_image.shape\n",
    "\n",
    "patch_size = 9\n",
    "half_size = patch_size // 2\n",
    "depth = np.zeros(left_image.shape) # The depth map"
   ]
  },
  {
   "cell_type": "code",
   "execution_count": null,
   "id": "260cfe25",
   "metadata": {},
   "outputs": [],
   "source": [
    "for i in range(half_size, height-half_size):\n",
    "    disparity_space_image = np.zeros((width, width))\n",
    "    for j in range(half_size, width-half_size):\n",
    "        right_image_mask = right_image[i-half_size : i+half_size+1, j-half_size : j+half_size+1]  # Patch from the right image\n",
    "        for k in range(half_size, width-half_size):\n",
    "            left_image_mask = left_image[i-half_size : i+half_size+1, k-half_size : k+half_size+1]  # Patch from the left image\n",
    "            disparity_space_image[j, k] = np.sum(abs(right_image_mask - left_image_mask))\n",
    "    occlusion_cost = 1 * (patch_size**2)\n",
    "    C = np.zeros((width, width))\n",
    "    M = np.zeros((width, width))\n",
    "\n",
    "    for x in range(width):\n",
    "        C[x, half_size] = x * occlusion_cost\n",
    "        C[half_size, x] = x * occlusion_cost\n",
    "\n",
    "    for x in range(half_size+1, width):\n",
    "        for y in range(half_size+1, width):\n",
    "            min_1 = C[x-1, y-1] + abs(disparity_space_image[x, y])\n",
    "            min_2 = C[x-1, y] + occlusion_cost\n",
    "            min_3 = C[x, y-1] + occlusion_cost\n",
    "            C[x, y] = min([min_1, min_2, min_3])\n",
    "            c_min = min([min_1, min_2, min_3])\n",
    "            if (min_1 == c_min):\n",
    "                M[x, y] = 1\n",
    "            elif (min_2 == c_min):\n",
    "                M[x, y] = 2\n",
    "            elif (min_3 == c_min):\n",
    "                M[x, y] = 3\n",
    "    x = width-half_size-1\n",
    "    y = width-half_size-1\n",
    "\n",
    "    while (x != half_size and y != half_size):\n",
    "        if M[x, y] == 1:\n",
    "            depth[i, x] = abs(x - y)\n",
    "            x -= 1\n",
    "            y -= 1\n",
    "        elif M[x, y] == 2:\n",
    "            x -= 1\n",
    "        elif M[x, y] == 3:\n",
    "            y -= 1\n",
    "\n",
    "for x in range(depth.shape[0]):\n",
    "    for y in range(depth.shape[1]):\n",
    "        if depth[x, y] == 0:\n",
    "            for z in range(y, depth.shape[1]):\n",
    "                if depth[x, z] != 0:\n",
    "                    depth[x, y] = (depth[x, y-1] + depth[x, z]) // 2\n",
    "                    break\n",
    "                else:\n",
    "                    depth[x, y] = depth[x, y-1]"
   ]
  },
  {
   "cell_type": "code",
   "execution_count": null,
   "id": "9a560b06",
   "metadata": {},
   "outputs": [],
   "source": [
    "plt.imshow(depth, cmap='gray')\n",
    "plt.axis('off')\n",
    "plt.show()"
   ]
  }
 ],
 "metadata": {
  "kernelspec": {
   "display_name": "Python 3 (ipykernel)",
   "language": "python",
   "name": "python3"
  },
  "language_info": {
   "codemirror_mode": {
    "name": "ipython",
    "version": 3
   },
   "file_extension": ".py",
   "mimetype": "text/x-python",
   "name": "python",
   "nbconvert_exporter": "python",
   "pygments_lexer": "ipython3",
   "version": "3.9.10"
  },
  "vscode": {
   "interpreter": {
    "hash": "88033ea6e6aaf353f3d26ef69434bb9b1f089d6b00d896155ae24c39a5d92896"
   }
  }
 },
 "nbformat": 4,
 "nbformat_minor": 5
}
