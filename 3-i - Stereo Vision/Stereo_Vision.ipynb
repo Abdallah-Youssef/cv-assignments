{
 "cells": [
  {
   "cell_type": "code",
   "execution_count": 1,
   "id": "6a0a660a",
   "metadata": {},
   "outputs": [],
   "source": [
    "import numpy as np\n",
    "import cv2 as cv\n",
    "import matplotlib.pyplot as plt"
   ]
  },
  {
   "cell_type": "code",
   "execution_count": 2,
   "id": "c2e2c221",
   "metadata": {},
   "outputs": [],
   "source": [
    "def show(img, size=75):\n",
    "    plt.figure(figsize = (size,size))\n",
    "    \n",
    "    if len(img.shape) == 2: # if grayscale, set cmap\n",
    "        plt.imshow(img, cmap=\"gray\", vmin=0, vmax=255)\n",
    "    else: # if 3 channels, change from BGR to RGB\n",
    "        plt.imshow(img[...,::-1])\n",
    "        \n",
    "    plt.show()\n",
    "\n",
    "left_img = cv.imread(\"./left_image.jpg\", 0)\n",
    "right_img = cv.imread(\"./right_image.jpg\", 0)\n",
    "show(left_img)"
   ]
  },
  {
   "cell_type": "markdown",
   "id": "9a8e5558",
   "metadata": {},
   "source": [
    "# Block Matching"
   ]
  },
  {
   "cell_type": "code",
   "execution_count": null,
   "id": "c01f8e48",
   "metadata": {},
   "outputs": [],
   "source": [
    "  "
   ]
  }
 ],
 "metadata": {
  "kernelspec": {
   "display_name": "Python 3 (ipykernel)",
   "language": "python",
   "name": "python3"
  },
  "language_info": {
   "codemirror_mode": {
    "name": "ipython",
    "version": 3
   },
   "file_extension": ".py",
   "mimetype": "text/x-python",
   "name": "python",
   "nbconvert_exporter": "python",
   "pygments_lexer": "ipython3",
   "version": "3.9.10"
  }
 },
 "nbformat": 4,
 "nbformat_minor": 5
}
