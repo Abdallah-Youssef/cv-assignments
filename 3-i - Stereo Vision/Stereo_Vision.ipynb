{
 "cells": [
  {
   "cell_type": "code",
   "execution_count": 1,
   "id": "6a0a660a",
   "metadata": {},
   "outputs": [],
   "source": [
    "import numpy as np\n",
    "import cv2 as cv\n",
    "import matplotlib.pyplot as plt\n",
    "import math"
   ]
  },
  {
   "cell_type": "code",
   "execution_count": 2,
   "id": "c2e2c221",
   "metadata": {},
   "outputs": [],
   "source": [
    "# Util for showing omages\n",
    "def show(img, size=75):\n",
    "    plt.figure(figsize = (size,size))\n",
    "    \n",
    "    if len(img.shape) == 2: # if grayscale, set cmap\n",
    "        plt.imshow(img, cmap=\"gray\", vmin=0, vmax=255)\n",
    "    else: # if 3 channels, change from BGR to RGB\n",
    "        plt.imshow(img[...,::-1])\n",
    "        \n",
    "    plt.show()"
   ]
  },
  {
   "cell_type": "markdown",
   "id": "9a8e5558",
   "metadata": {},
   "source": [
    "# Block Matching"
   ]
  },
  {
   "cell_type": "code",
   "execution_count": 12,
   "id": "c01f8e48",
   "metadata": {},
   "outputs": [
    {
     "name": "stdout",
     "output_type": "stream",
     "text": [
      "(287, 380)\n",
      "[[  0   0   0 ... 368 271 379]\n",
      " [  0   1   2 ...  11 114   0]\n",
      " [ 48  47  46 ...   0   0   0]\n",
      " ...\n",
      " [193 193 193 ...   1  24   0]\n",
      " [193 194 193 ...   1   0   0]\n",
      " [193 194 193 ...   2   0 143]]\n"
     ]
    }
   ],
   "source": [
    "from joblib import Parallel, delayed\n",
    "\n",
    "def SAD(matA, matB):\n",
    "  return np.sum(np.abs(matA - matB))\n",
    "\n",
    "def SSD(matA, matB):\n",
    "  return np.sum(np.square(matA - matB))\n",
    "\n",
    "def get_row_matches(row, imgL, imgR, window, matching_fn):\n",
    "  _, width, _ = imgL.shape\n",
    "  # Window offset\n",
    "  offset = int(window/2)\n",
    "  result = []\n",
    "  for colLeft in range(offset, width-offset):\n",
    "    template = imgL[row-offset:row+offset +\n",
    "                    1, colLeft-offset:colLeft+offset+1, :]\n",
    "\n",
    "    bestMatchCol = -1\n",
    "    bestMatchVal = math.inf\n",
    "\n",
    "    for colRight in range(offset, width-offset):\n",
    "      match = imgR[row-offset:row+offset+1,\n",
    "                   colRight-offset:colRight+offset+1, :]\n",
    "      matchVal = matching_fn(template, match)\n",
    "\n",
    "      if matchVal < bestMatchVal:\n",
    "        bestMatchCol = colRight\n",
    "        bestMatchVal = matchVal\n",
    "    \n",
    "    # Append disparity\n",
    "    if bestMatchCol != -1: \n",
    "      result.append(np.abs(colLeft - bestMatchCol))\n",
    "    else: \n",
    "      result.append(0)\n",
    "  return result\n",
    "\n",
    "\n",
    "def get_block_matches(imgL, imgR, window, matching_fn):\n",
    "  height, _, _ = imgL.shape\n",
    "  offset = int(window/2)\n",
    "\n",
    "  results = Parallel(n_jobs=10)(delayed(get_row_matches)(i, imgL, imgR, window,\n",
    "                                              matching_fn) for i in range(offset, height-offset))\n",
    "  return np.array(results)"
   ]
  },
  {
   "cell_type": "code",
   "execution_count": 19,
   "id": "bf67405e",
   "metadata": {},
   "outputs": [
    {
     "name": "stdout",
     "output_type": "stream",
     "text": [
      "Window size:  3\n",
      "Calculating SAD: \n",
      "Calculating SSD: \n",
      "Window size:  5\n",
      "Calculating SAD: \n",
      "Calculating SSD: \n",
      "Window size:  9\n",
      "Calculating SAD: \n",
      "Calculating SSD: \n"
     ]
    }
   ],
   "source": [
    "imgL = cv.imread(\"./l1.png\")\n",
    "imgR = cv.imread(\"./r1.png\")\n",
    "\n",
    "for window in [3, 5, 9]:\n",
    "  print(\"Window size: \", window)\n",
    "\n",
    "  print(\"Calculating SAD ... \")\n",
    "  disparity_map = get_block_matches(imgL, imgR, window, SAD)\n",
    "  cv.imwrite(f\"./block_matching/output_{window}_SAD.png\", disparity_map)\n",
    "\n",
    "\n",
    "  print(\"Calculating SSD ... \")\n",
    "  disparity_map = get_block_matches(imgL, imgR, window, SSD)\n",
    "  cv.imwrite(f\"./block_matching/output_{window}_SSD.png\", disparity_map)\n",
    "\n",
    "  "
   ]
  },
  {
   "cell_type": "code",
   "execution_count": 3,
   "id": "b371179f",
   "metadata": {},
   "outputs": [],
   "source": [
    "def plot_matches(imgL, imgR, distances, c, dp, row):\n",
    "    height, width, rest_dims = imgL.shape[0], imgL.shape[1], imgL.shape[2:]\n",
    "\n",
    "    output = np.zeros((height+1, width+1, *rest_dims))\n",
    "    # left image row\n",
    "    output[0, 1:, ...] = imgL[row]\n",
    "    # right image row\n",
    "    output[1:, 0, ...] = imgR[row]\n",
    "\n",
    "    i, j = height - 1, width - 1\n",
    "\n",
    "    while i > 0 or j > 0:\n",
    "        if i == 0:\n",
    "            output = cv.line(output, (j+1, i+1), (j, i+1), (255, 255, 255), 1)\n",
    "            j -= 1\n",
    "        elif j == 0:\n",
    "            output = cv.line(output, (j+1, i+1), (j+1, i), (255, 255, 255), 1)\n",
    "            i -= 1\n",
    "        elif dp[i][j] == dp[i-1][j] + c:\n",
    "            output = cv.line(output, (j+1, i+1), (j+1, i), (255, 255, 255), 1)\n",
    "            i -= 1\n",
    "        elif dp[i][j] == dp[i][j-1] + c:\n",
    "            output = cv.line(output, (j+1, i+1), (j, i+1), (255, 255, 255), 1)\n",
    "            j -= 1\n",
    "        else:\n",
    "            output = cv.line(output, (j+1, i+1), (j, i), (255, 255, 255), 1)\n",
    "            i -= 1\n",
    "            j -= 1\n",
    "    return output"
   ]
  },
  {
   "cell_type": "code",
   "execution_count": null,
   "id": "6a4a435d",
   "metadata": {},
   "outputs": [],
   "source": []
  }
 ],
 "metadata": {
  "kernelspec": {
   "display_name": "base",
   "language": "python",
   "name": "python3"
  },
  "language_info": {
   "codemirror_mode": {
    "name": "ipython",
    "version": 3
   },
   "file_extension": ".py",
   "mimetype": "text/x-python",
   "name": "python",
   "nbconvert_exporter": "python",
   "pygments_lexer": "ipython3",
   "version": "3.8.3"
  },
  "vscode": {
   "interpreter": {
    "hash": "88033ea6e6aaf353f3d26ef69434bb9b1f089d6b00d896155ae24c39a5d92896"
   }
  }
 },
 "nbformat": 4,
 "nbformat_minor": 5
}
