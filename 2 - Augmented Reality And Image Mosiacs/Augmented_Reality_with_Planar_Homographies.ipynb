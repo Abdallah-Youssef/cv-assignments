{
 "cells": [
  {
   "cell_type": "code",
   "execution_count": 15,
   "id": "f77f8044",
   "metadata": {},
   "outputs": [],
   "source": [
    "import cv2\n",
    "import numpy as np\n",
    "import matplotlib.pyplot as plt"
   ]
  },
  {
   "cell_type": "code",
   "execution_count": 16,
   "id": "c82d5091",
   "metadata": {},
   "outputs": [],
   "source": [
    "def show(img, size=75):\n",
    "    plt.figure(figsize=(size, size))\n",
    "\n",
    "    if len(img.shape) == 2:  # if grayscale, set cmap\n",
    "        plt.imshow(img, cmap=\"gray\", vmin=0, vmax=255)\n",
    "    else:  # if 3 channels, change from BGR to RGB\n",
    "        plt.imshow(img[..., ::-1])\n",
    "\n",
    "    plt.show()\n",
    "\n",
    "def get_first_frame(videofile):\n",
    "    vidcap = cv2.VideoCapture(videofile)\n",
    "    success, image = vidcap.read()\n",
    "    if success:\n",
    "        cv2.imwrite(\"book_video_first_frame.jpg\", image)  # save frame as JPEG file\n",
    "\n",
    "\n",
    "def get_keypoints(img):\n",
    "    sift = cv2.SIFT_create()\n",
    "    kp, des = sift.detectAndCompute(img,None)\n",
    "    img_keypoints=cv2.drawKeypoints(img,kp,img)\n",
    "    return kp, des\n",
    "\n",
    "\n",
    "def get_correspondences(img1, img2):\n",
    "    kp1, des1 = get_keypoints(img1)\n",
    "    kp2, des2 = get_keypoints(img2)\n",
    "\n",
    "    # BFMatcher with default params\n",
    "    bf = cv2.BFMatcher()\n",
    "\n",
    "    # des1 = queryDescriptor, des2 = trainDescriptor\n",
    "    matches = bf.knnMatch(des1, des2, k=2)\n",
    "\n",
    "    # Apply ratio test\n",
    "    good = []\n",
    "    final_matches = []\n",
    "    for m, n in matches:\n",
    "        if m.distance < 0.235 * n.distance:\n",
    "            good.append([m])\n",
    "            final_matches.append([kp1[m.queryIdx].pt, kp2[m.trainIdx].pt])\n",
    "\n",
    "    # cv.drawMatchesKnn expects list of lists as matches.\n",
    "    img3 = cv2.drawMatchesKnn(img1, kp1, img2, kp2, good, None, flags=cv2.DrawMatchesFlags_NOT_DRAW_SINGLE_POINTS)\n",
    "    # show(img3)\n",
    "    print(f\"found {len(good)} matches\")\n",
    "\n",
    "    return final_matches, img3\n",
    "\n",
    "\n",
    "def construct_homography_matrix(matches):\n",
    "    A = [];\n",
    "    for match in matches:\n",
    "        xi = match[0][0]\n",
    "        yi = match[0][1]\n",
    "\n",
    "        xj = match[1][0]\n",
    "        yj = match[1][1]\n",
    "\n",
    "        A.append([xi, yi, 1, 0, 0, 0, -1 * xj * xi, -1 * xj * yi, -1 * xj])\n",
    "        A.append([0, 0, 0, xi, yi, 1, -1 * yj * xi, -1 * yj * yi, -1 * yj])\n",
    "\n",
    "    # print(A)\n",
    "\n",
    "    u, s, vh = np.linalg.svd(A, full_matrices=True)\n",
    "    h = vh[-1]\n",
    "    return np.array(h).reshape((3, 3))\n"
   ]
  },
  {
   "cell_type": "code",
   "execution_count": 18,
   "id": "9aadd27a",
   "metadata": {},
   "outputs": [
    {
     "name": "stdout",
     "output_type": "stream",
     "text": [
      "found 34 matches\n"
     ]
    },
    {
     "data": {
      "text/plain": [
       "-1"
      ]
     },
     "execution_count": 18,
     "metadata": {},
     "output_type": "execute_result"
    }
   ],
   "source": [
    "get_first_frame('book.mov')\n",
    "img1 = cv2.imread('cv_cover.jpg')\n",
    "img2 = cv2.imread('book_video_first_frame.jpg')\n",
    "\n",
    "img1 = cv2.cvtColor(img1, cv2.COLOR_BGR2GRAY)\n",
    "img2 = cv2.cvtColor(img2, cv2.COLOR_BGR2GRAY)\n",
    "\n",
    "final_matches, img3 = get_correspondences(img1, img2)\n",
    "cv2.imshow('SIFT', img3)\n",
    "cv2.waitKey(0)\n",
    "\n",
    "H = construct_homography_matrix(final_matches) # The homography matrix\n",
    "# print(H)\n",
    "\n",
    "img_out = cv2.warpPerspective(img1, H, (img2.shape[1], img2.shape[0]))\n",
    "\n",
    "cv2.imshow('Warp Perspective', img_out)\n",
    "cv2.waitKey(0)"
   ]
  },
  {
   "cell_type": "code",
   "execution_count": null,
   "id": "a454c3c5",
   "metadata": {},
   "outputs": [],
   "source": []
  }
 ],
 "metadata": {
  "kernelspec": {
   "display_name": "Python 3 (ipykernel)",
   "language": "python",
   "name": "python3"
  },
  "language_info": {
   "codemirror_mode": {
    "name": "ipython",
    "version": 3
   },
   "file_extension": ".py",
   "mimetype": "text/x-python",
   "name": "python",
   "nbconvert_exporter": "python",
   "pygments_lexer": "ipython3",
   "version": "3.9.10"
  }
 },
 "nbformat": 4,
 "nbformat_minor": 5
}
